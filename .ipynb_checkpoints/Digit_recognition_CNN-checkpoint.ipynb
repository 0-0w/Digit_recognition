{
 "cells": [
  {
   "cell_type": "markdown",
   "id": "67a24c6d-9471-4d7a-8e32-01a0903023bf",
   "metadata": {},
   "source": [
    "## Fetching data"
   ]
  },
  {
   "cell_type": "code",
   "execution_count": 1,
   "id": "ecc335d3-912c-49ea-8d08-917b8cda203f",
   "metadata": {},
   "outputs": [],
   "source": [
    "from keras.datasets import mnist\n",
    "import tensorflow as tf\n",
    "import matplotlib.pyplot as plt\n",
    "import seaborn as sns\n",
    "import numpy as np \n",
    "import pandas as pd\n",
    "%matplotlib inline"
   ]
  },
  {
   "cell_type": "code",
   "execution_count": 3,
   "id": "4dbdb1bd-9794-4c58-899c-55bb2db4496e",
   "metadata": {},
   "outputs": [],
   "source": [
    "(train_x,train_y) ,(test_x,test_y) = mnist.load_data()"
   ]
  },
  {
   "cell_type": "markdown",
   "id": "dd5a6651-3bc4-49eb-b65e-0a4efabeffe2",
   "metadata": {},
   "source": [
    "## 60k->images, 28X28 dimension of the image\n",
    "## training output y is of size 60k with labelled values"
   ]
  },
  {
   "cell_type": "code",
   "execution_count": 4,
   "id": "523111f9-5675-4f48-b6b4-3e3d4d0780d9",
   "metadata": {},
   "outputs": [
    {
     "data": {
      "text/plain": [
       "((60000, 28, 28), (60000,))"
      ]
     },
     "execution_count": 4,
     "metadata": {},
     "output_type": "execute_result"
    }
   ],
   "source": [
    "train_x.shape , train_y.shape"
   ]
  },
  {
   "cell_type": "code",
   "execution_count": 5,
   "id": "66fb3e58-7b2d-406c-a83d-4a2eb60c21ef",
   "metadata": {},
   "outputs": [
    {
     "data": {
      "text/plain": [
       "((10000, 28, 28), (10000,))"
      ]
     },
     "execution_count": 5,
     "metadata": {},
     "output_type": "execute_result"
    }
   ],
   "source": [
    "test_x.shape , test_y.shape"
   ]
  },
  {
   "cell_type": "markdown",
   "id": "2f3d23c6-2914-4b47-abd6-17c2f8d1db3c",
   "metadata": {},
   "source": [
    "## Plotting the dataset"
   ]
  },
  {
   "cell_type": "code",
   "execution_count": 6,
   "id": "51702cac-f0ac-4479-a79a-971955cf6dff",
   "metadata": {},
   "outputs": [
    {
     "data": {
      "image/png": "[encoded data removed]",
      "text/plain": [
       "<Figure size 640x480 with 9 Axes>"
      ]
     },
     "metadata": {},
     "output_type": "display_data"
    }
   ],
   "source": [
    "for i in range(9):\n",
    "    plt.subplot(331+i)\n",
    "    plt.imshow(train_x[i],cmap='grey')\n",
    "plt.show()"
   ]
  },
  {
   "cell_type": "markdown",
   "id": "dd9f7695-c705-4293-943d-cb8a318eda96",
   "metadata": {},
   "source": [
    "## Checking for null values"
   ]
  },
  {
   "cell_type": "code",
   "execution_count": 7,
   "id": "300e3bf1-9f39-46e5-b38e-1c5a8da81d6a",
   "metadata": {},
   "outputs": [
    {
     "data": {
      "text/plain": [
       "(False, False)"
      ]
     },
     "execution_count": 7,
     "metadata": {},
     "output_type": "execute_result"
    }
   ],
   "source": [
    "np.isnan(train_x).any(),np.isnan(train_y).any()"
   ]
  },
  {
   "cell_type": "code",
   "execution_count": 8,
   "id": "09fb45e2-645e-4ac1-b08a-91bbb06864ef",
   "metadata": {},
   "outputs": [
    {
     "data": {
      "text/plain": [
       "False"
      ]
     },
     "execution_count": 8,
     "metadata": {},
     "output_type": "execute_result"
    }
   ],
   "source": [
    "np.isnan(test_x).any()"
   ]
  },
  {
   "cell_type": "markdown",
   "id": "666f8a24-ed91-4d07-ba0d-f32000a8b4fd",
   "metadata": {},
   "source": [
    "# Normalizing the data (for x train and testing data)\n",
    "(We want the values to be in between 0-1 but our data ranges between 0-255 so we divide the dataset by 255)"
   ]
  },
  {
   "cell_type": "code",
   "execution_count": 9,
   "id": "9ae2dd5a-0df0-4229-987d-3dc674be5a21",
   "metadata": {},
   "outputs": [],
   "source": [
    "input_shape = (28,28,1)\n",
    "\n",
    "train_x = train_x.reshape(train_x.shape[0],train_x.shape[1],train_x.shape[2],1)\n",
    "train_x = train_x/255.0\n",
    "test_x  = test_x.reshape(test_x.shape[0],test_x.shape[1],test_x.shape[2],1)\n",
    "test_x  = test_x/255.0"
   ]
  },
  {
   "cell_type": "markdown",
   "id": "ba4d9710-c4e3-49bb-b106-ad5d775055b6",
   "metadata": {},
   "source": [
    "# Label enconding (for y training and testing data)\n",
    "(Our data is labelled as 0-9 so we'll encode them as 0s and 1s eg: 2=[0,0,1,0,0,0,0,0,0,0])"
   ]
  },
  {
   "cell_type": "code",
   "execution_count": 10,
   "id": "9b514fb4-9737-4f5a-ae59-301a870528ba",
   "metadata": {},
   "outputs": [],
   "source": [
    "train_y = tf.one_hot(train_y.astype(np.int32),depth=10)\n",
    "test_y = tf.one_hot(test_y.astype(np.int32),depth=10)"
   ]
  },
  {
   "cell_type": "markdown",
   "id": "5dcbccb3-b1d1-41e2-a689-0c2f8966489e",
   "metadata": {},
   "source": [
    "## Images\n",
    "* All the images are represented by pixels .\n",
    "* Greyscale and RGB images, pixel ranges betwenn 0-255\n",
    "* RGB image pixels are present in channels(layers) each represented by some pixel values,\n",
    "* eg: a 6x6 RGB img will be representd as 6x6x3."
   ]
  },
  {
   "cell_type": "markdown",
   "id": "9786c9c9-222c-403e-8b48-fc6a93e4b98f",
   "metadata": {},
   "source": [
    "## CNN Model\n",
    "* Strides - An integer or tuple/list of 2 integers, specifying the strides of the convolution along the height and width.\n",
    "* Padding - one of \"valid\" or \"same\" (case-insensitive). \"valid\" means no padding. \"same\" results in padding with zeros evenly to the left/right or up/down of the input. When padding=\"same\" and strides=1, the output has the same size as the input.\n",
    "\n",
    "### Model details\n",
    "* Conv2D layers are convolutions. Each filter (32 in the first two convolution layers and 64 in the next two convolution layers)  transforms a part of the image (5x5 for the first two Conv2D layers and 3x3 for the next two Conv2D layers).\n",
    "* One img is 28x28. It is a 2D matrix, we need to flatten it to feed it into our neural network to do this we use Flatten()\n",
    "* relu is the rectifier that returns the value as itself if it is >=0 else it will return 0\n",
    "\n",
    "## Max Pooling\n",
    "* A MxN filter is applied to the output of the convulation layer and the max value is selected from the output layer of the convulation.\n",
    "\n",
    "## formula to get the output dimensions is:\n",
    "* ## n-f+1\n",
    "* where, n=rows/cols of the input matrix , f=rows/cols of the filter \n",
    "\n",
    "## Loss functions \n",
    "* If we use sparse_categorical_crossentropy then we dont need to hot encode our y_training and testing dataset\n",
    "* Otherwise we'll use categorical_crossentropy "
   ]
  },
  {
   "cell_type": "code",
   "execution_count": 11,
   "id": "643caef7-c59c-487f-a381-820e24fc0a3c",
   "metadata": {},
   "outputs": [],
   "source": [
    "batch_size = 64\n",
    "num_classes = 10\n",
    "epochs = 5"
   ]
  },
  {
   "cell_type": "code",
   "execution_count": 12,
   "id": "71a3ad73-0c24-4ba7-866d-f6519283b37e",
   "metadata": {},
   "outputs": [],
   "source": [
    "model = tf.keras.models.Sequential([\n",
    "    tf.keras.layers.Conv2D(32, (5,5), padding='same', activation='relu', input_shape=input_shape),\n",
    "    tf.keras.layers.Conv2D(32, (5,5), padding='same', activation='relu'),\n",
    "    tf.keras.layers.MaxPool2D(),\n",
    "    tf.keras.layers.Dropout(0.25),\n",
    "    tf.keras.layers.Conv2D(64, (3,3), padding='same', activation='relu'),\n",
    "    tf.keras.layers.Conv2D(64, (3,3), padding='same', activation='relu'),\n",
    "    tf.keras.layers.MaxPool2D(strides=(2,2)),\n",
    "    tf.keras.layers.Dropout(0.25),\n",
    "    tf.keras.layers.Flatten(),\n",
    "    tf.keras.layers.Dense(128, activation='relu'),\n",
    "    tf.keras.layers.Dropout(0.5),\n",
    "    tf.keras.layers.Dense(num_classes, activation='softmax')\n",
    "])\n",
    "\n",
    "model.compile(optimizer=tf.keras.optimizers.RMSprop(epsilon=1e-08), loss='categorical_crossentropy', metrics=['acc'])"
   ]
  },
  {
   "cell_type": "code",
   "execution_count": 13,
   "id": "0e6d1556-0a5d-4e7f-838c-57a154566aa3",
   "metadata": {},
   "outputs": [],
   "source": [
    "class myCallback(tf.keras.callbacks.Callback):\n",
    "  def on_epoch_end(self, epoch, logs={}):\n",
    "    if(logs.get('acc')>0.995):\n",
    "      print(\"\\nReached 99.5% accuracy so cancelling training!\")\n",
    "      self.model.stop_training = True\n",
    "\n",
    "callbacks = myCallback()"
   ]
  },
  {
   "cell_type": "code",
   "execution_count": 15,
   "id": "9d3c4ad2-7dc7-4028-8000-b2033e82f67b",
   "metadata": {},
   "outputs": [
    {
     "name": "stdout",
     "output_type": "stream",
     "text": [
      "Epoch 1/5\n",
      "844/844 [==============================] - 186s 218ms/step - loss: 0.2135 - acc: 0.9322 - val_loss: 0.0431 - val_acc: 0.9868\n",
      "Epoch 2/5\n",
      "844/844 [==============================] - 178s 211ms/step - loss: 0.0748 - acc: 0.9790 - val_loss: 0.0367 - val_acc: 0.9892\n",
      "Epoch 3/5\n",
      "844/844 [==============================] - 174s 206ms/step - loss: 0.0554 - acc: 0.9841 - val_loss: 0.0336 - val_acc: 0.9902\n",
      "Epoch 4/5\n",
      "844/844 [==============================] - 174s 206ms/step - loss: 0.0456 - acc: 0.9876 - val_loss: 0.0326 - val_acc: 0.9918\n",
      "Epoch 5/5\n",
      "844/844 [==============================] - 174s 207ms/step - loss: 0.0418 - acc: 0.9877 - val_loss: 0.0362 - val_acc: 0.9912\n"
     ]
    }
   ],
   "source": [
    "history = model.fit(train_x, train_y,\n",
    "                    batch_size=batch_size,\n",
    "                    epochs=epochs,\n",
    "                    validation_split=0.1,\n",
    "                    callbacks=[callbacks])"
   ]
  },
  {
   "cell_type": "markdown",
   "id": "39e69e79-77d0-45e9-8110-a5b647b451b3",
   "metadata": {},
   "source": [
    "## Evaluate the Model"
   ]
  },
  {
   "cell_type": "code",
   "execution_count": 17,
   "id": "3890c446-6a60-4048-8792-bd2e89a489db",
   "metadata": {},
   "outputs": [
    {
     "data": {
      "image/png": "[encoded data removed]",
      "text/plain": [
       "<Figure size 640x480 with 2 Axes>"
      ]
     },
     "metadata": {},
     "output_type": "display_data"
    }
   ],
   "source": [
    "fig, ax = plt.subplots(2,1)\n",
    "ax[0].plot(history.history['loss'], color='b', label=\"Training Loss\")\n",
    "ax[0].plot(history.history['val_loss'], color='r', label=\"Validation Loss\")\n",
    "legend = ax[0].legend(loc='best')\n",
    "\n",
    "ax[1].plot(history.history['acc'], color='b', label=\"Training Accuracy\")\n",
    "ax[1].plot(history.history['val_acc'], color='r',label=\"Validation Accuracy\")\n",
    "legend = ax[1].legend(loc='best')"
   ]
  },
  {
   "cell_type": "markdown",
   "id": "9840a758-6f23-4ad0-bee5-a28b4793559b",
   "metadata": {},
   "source": [
    "## Prediction"
   ]
  },
  {
   "cell_type": "code",
   "execution_count": 18,
   "id": "c3e97818-08bc-40a8-9f9f-4e21de1d04b7",
   "metadata": {},
   "outputs": [
    {
     "name": "stdout",
     "output_type": "stream",
     "text": [
      "313/313 [==============================] - 7s 24ms/step - loss: 0.0220 - acc: 0.9934\n"
     ]
    }
   ],
   "source": [
    "test_loss, test_acc = model.evaluate(test_x, test_y)"
   ]
  },
  {
   "cell_type": "code",
   "execution_count": 20,
   "id": "31156243-f077-4758-be36-119e5b1da3e3",
   "metadata": {},
   "outputs": [],
   "source": [
    "model.save(\"Digit_recognition.keras\")"
   ]
  },
  {
   "cell_type": "code",
   "execution_count": null,
   "id": "cde4150d-4af3-419d-bd00-704082e3629f",
   "metadata": {},
   "outputs": [],
   "source": []
  }
 ],
 "metadata": {
  "kernelspec": {
   "display_name": "Python 3 (ipykernel)",
   "language": "python",
   "name": "python3"
  },
  "language_info": {
   "codemirror_mode": {
    "name": "ipython",
    "version": 3
   },
   "file_extension": ".py",
   "mimetype": "text/x-python",
   "name": "python",
   "nbconvert_exporter": "python",
   "pygments_lexer": "ipython3",
   "version": "3.11.5"
  }
 },
 "nbformat": 4,
 "nbformat_minor": 5
}
