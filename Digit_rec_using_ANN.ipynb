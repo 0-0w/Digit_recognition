{
 "cells": [
  {
   "cell_type": "markdown",
   "id": "473653b3-6be7-4cbc-858e-db8b7cbcc4a3",
   "metadata": {},
   "source": [
    "## Fetching Data"
   ]
  },
  {
   "cell_type": "code",
   "execution_count": 8,
   "id": "900538db-3ce7-486a-96ec-e1536a5cacb9",
   "metadata": {},
   "outputs": [],
   "source": [
    "from keras.datasets import mnist\n",
    "import tensorflow as tf\n",
    "from tensorflow.keras import Sequential\n",
    "from tensorflow.keras.layers import Dense,Flatten\n",
    "import matplotlib.pyplot as plt\n",
    "%matplotlib inline"
   ]
  },
  {
   "cell_type": "code",
   "execution_count": 2,
   "id": "cec4ebf2-1f9e-428c-8381-e2d8beff7b60",
   "metadata": {},
   "outputs": [],
   "source": [
    "(train_x,train_y) ,(test_x,test_y) = mnist.load_data()"
   ]
  },
  {
   "cell_type": "markdown",
   "id": "417a8b35-99cb-42ad-9e74-c4ea6f6315fb",
   "metadata": {},
   "source": [
    "## train_y and test_y is of size 60k with labelled values"
   ]
  },
  {
   "cell_type": "code",
   "execution_count": 3,
   "id": "94285506-c8c7-47d3-8e2b-40219d7a623a",
   "metadata": {},
   "outputs": [
    {
     "data": {
      "text/plain": [
       "(60000, 28, 28)"
      ]
     },
     "execution_count": 3,
     "metadata": {},
     "output_type": "execute_result"
    }
   ],
   "source": [
    "train_x.shape"
   ]
  },
  {
   "cell_type": "code",
   "execution_count": 4,
   "id": "8ce70b61-0211-42a0-be00-a3d57d3245ed",
   "metadata": {},
   "outputs": [
    {
     "data": {
      "text/plain": [
       "(10000, 28, 28)"
      ]
     },
     "execution_count": 4,
     "metadata": {},
     "output_type": "execute_result"
    }
   ],
   "source": [
    "test_x.shape"
   ]
  },
  {
   "cell_type": "code",
   "execution_count": 7,
   "id": "7be7bcf4-c181-422d-ab10-b4ae81254d03",
   "metadata": {},
   "outputs": [
    {
     "data": {
      "text/plain": [
       "array([7, 2, 1, ..., 4, 5, 6], dtype=uint8)"
      ]
     },
     "execution_count": 7,
     "metadata": {},
     "output_type": "execute_result"
    }
   ],
   "source": [
    "test_y"
   ]
  },
  {
   "cell_type": "markdown",
   "id": "deabc2f8-3a5a-4564-b08b-c55260e5db33",
   "metadata": {},
   "source": [
    "## Data visualization"
   ]
  },
  {
   "cell_type": "code",
   "execution_count": 6,
   "id": "16c4f61f-ae3c-4691-b2a2-0026eb379ccf",
   "metadata": {},
   "outputs": [
    {
     "data": {
      "image/png": "[encoded data removed]",
      "text/plain": [
       "<Figure size 640x480 with 9 Axes>"
      ]
     },
     "metadata": {},
     "output_type": "display_data"
    }
   ],
   "source": [
    "for i in range(9):\n",
    "    plt.subplot(331+i)\n",
    "    plt.imshow(train_x[i],cmap='grey')\n",
    "plt.show()"
   ]
  },
  {
   "cell_type": "markdown",
   "id": "593faf8a-f753-468a-96c4-30df43280fca",
   "metadata": {},
   "source": [
    "# Normalizing the data (for x train and testing data)\n",
    "(We want the values to be in between 0-1 but our data ranges between 0-255 so we divide the dataset by 255)"
   ]
  },
  {
   "cell_type": "code",
   "execution_count": 9,
   "id": "071c9f89-04f7-468d-b40d-71e5923676e0",
   "metadata": {},
   "outputs": [],
   "source": [
    "x_train = train_x/255\n",
    "x_test = test_x/255"
   ]
  },
  {
   "cell_type": "markdown",
   "id": "7382e1ab-8f0e-497f-b8ac-d6764d786803",
   "metadata": {},
   "source": [
    "## ANN model\n",
    "* ANN network consists of 3 layers\n",
    "* 1st layer take 784(28x28) input\n",
    "* 2nd layer take 128 I/Ps\n",
    "* 3rd layer is the output layer consists of 10 nodes\n",
    "* it takes the max value out of the 10 nodes and returns that as output\n",
    "\n",
    "## Model details\n",
    "* One img is 28x28. It is a 2D matrix, we need to flatten it to feed it into our neural network to do this we use Flatten()\n",
    "* relu is the rectifier that returns the value as itself if it is >=0 else it will return 0\n",
    "\n",
    "## Loss functions \n",
    "* If we use sparse_categorical_crossentropy then we dont need to hot encode our y_training and testing dataset\n",
    "* Otherwise we'll use categorical_crossentropy\n",
    "\n",
    "## Activation function\n",
    "* relu - commonly used\n",
    "* softmax - when the output layer has more than 1 node and is categorical data we use this function "
   ]
  },
  {
   "cell_type": "code",
   "execution_count": 37,
   "id": "6a34f88f-6e56-484d-bd40-f0285b2af8bb",
   "metadata": {},
   "outputs": [],
   "source": [
    "model = Sequential()\n",
    "\n",
    "model.add(Flatten(input_shape=(28,28)))\n",
    "model.add(Dense(128,activation='relu'))\n",
    "model.add(Dense(10,activation='softmax'))"
   ]
  },
  {
   "cell_type": "markdown",
   "id": "7b7fed43-ebeb-40fe-a158-6f3f09199e18",
   "metadata": {},
   "source": [
    "# Model Summary\n",
    "* 1st dense - 100480 -> 784(input)*128(2nd layer input)(weights) + 128(biases)\n",
    "* output layer - 1290 -> 128*10 + 10"
   ]
  },
  {
   "cell_type": "code",
   "execution_count": 38,
   "id": "75fbc006-a491-4470-9f0e-48091bbac0ac",
   "metadata": {},
   "outputs": [
    {
     "name": "stdout",
     "output_type": "stream",
     "text": [
      "Model: \"sequential_2\"\n",
      "_________________________________________________________________\n",
      " Layer (type)                Output Shape              Param #   \n",
      "=================================================================\n",
      " flatten_2 (Flatten)         (None, 784)               0         \n",
      "                                                                 \n",
      " dense_4 (Dense)             (None, 128)               100480    \n",
      "                                                                 \n",
      " dense_5 (Dense)             (None, 10)                1290      \n",
      "                                                                 \n",
      "=================================================================\n",
      "Total params: 101770 (397.54 KB)\n",
      "Trainable params: 101770 (397.54 KB)\n",
      "Non-trainable params: 0 (0.00 Byte)\n",
      "_________________________________________________________________\n"
     ]
    }
   ],
   "source": [
    "model.summary()"
   ]
  },
  {
   "cell_type": "code",
   "execution_count": 39,
   "id": "b5d150bd-1914-4e78-909d-81ce97b7f006",
   "metadata": {},
   "outputs": [],
   "source": [
    "model.compile(loss=\"sparse_categorical_crossentropy\", optimizer='Adam',metrics=['accuracy'])"
   ]
  },
  {
   "cell_type": "code",
   "execution_count": 40,
   "id": "8b93d26c-da1a-4987-935c-1b70613f3383",
   "metadata": {},
   "outputs": [
    {
     "name": "stdout",
     "output_type": "stream",
     "text": [
      "Epoch 1/10\n",
      "1500/1500 [==============================] - 6s 3ms/step - loss: 0.2842 - accuracy: 0.9184 - val_loss: 0.1482 - val_accuracy: 0.9578\n",
      "Epoch 2/10\n",
      "1500/1500 [==============================] - 4s 3ms/step - loss: 0.1257 - accuracy: 0.9635 - val_loss: 0.1187 - val_accuracy: 0.9665\n",
      "Epoch 3/10\n",
      "1500/1500 [==============================] - 4s 3ms/step - loss: 0.0852 - accuracy: 0.9749 - val_loss: 0.0974 - val_accuracy: 0.9696\n",
      "Epoch 4/10\n",
      "1500/1500 [==============================] - 4s 3ms/step - loss: 0.0627 - accuracy: 0.9812 - val_loss: 0.1041 - val_accuracy: 0.9706\n",
      "Epoch 5/10\n",
      "1500/1500 [==============================] - 4s 3ms/step - loss: 0.0479 - accuracy: 0.9857 - val_loss: 0.0895 - val_accuracy: 0.9729\n",
      "Epoch 6/10\n",
      "1500/1500 [==============================] - 4s 3ms/step - loss: 0.0377 - accuracy: 0.9887 - val_loss: 0.0870 - val_accuracy: 0.9736\n",
      "Epoch 7/10\n",
      "1500/1500 [==============================] - 4s 3ms/step - loss: 0.0292 - accuracy: 0.9914 - val_loss: 0.0893 - val_accuracy: 0.9758\n",
      "Epoch 8/10\n",
      "1500/1500 [==============================] - 4s 3ms/step - loss: 0.0229 - accuracy: 0.9930 - val_loss: 0.0850 - val_accuracy: 0.9759\n",
      "Epoch 9/10\n",
      "1500/1500 [==============================] - 4s 3ms/step - loss: 0.0172 - accuracy: 0.9949 - val_loss: 0.0916 - val_accuracy: 0.9753\n",
      "Epoch 10/10\n",
      "1500/1500 [==============================] - 4s 3ms/step - loss: 0.0158 - accuracy: 0.9952 - val_loss: 0.0981 - val_accuracy: 0.9739\n"
     ]
    }
   ],
   "source": [
    "history = model.fit(x_train,train_y,epochs=10,validation_split=0.2)"
   ]
  },
  {
   "cell_type": "code",
   "execution_count": 41,
   "id": "fd297dda-b6ac-4823-aba9-55075749bbc2",
   "metadata": {},
   "outputs": [
    {
     "name": "stdout",
     "output_type": "stream",
     "text": [
      "313/313 [==============================] - 1s 2ms/step\n"
     ]
    }
   ],
   "source": [
    "y_prob = model.predict(test_x)"
   ]
  },
  {
   "cell_type": "code",
   "execution_count": 42,
   "id": "260cc4c9-536f-4da6-a329-f9f0f91fd15f",
   "metadata": {},
   "outputs": [],
   "source": [
    "y_pred = y_prob.argmax(axis=1)"
   ]
  },
  {
   "cell_type": "markdown",
   "id": "f4b7ace3-dd8a-475b-b21f-cf3af275d7f2",
   "metadata": {},
   "source": [
    "## Model Accuracy"
   ]
  },
  {
   "cell_type": "code",
   "execution_count": 43,
   "id": "a08ca840-1927-404b-8e02-29b221026dba",
   "metadata": {},
   "outputs": [],
   "source": [
    "from sklearn.metrics import accuracy_score"
   ]
  },
  {
   "cell_type": "code",
   "execution_count": 44,
   "id": "60c46fc2-fb14-49bb-8865-19940320e057",
   "metadata": {},
   "outputs": [
    {
     "data": {
      "text/plain": [
       "0.9767"
      ]
     },
     "execution_count": 44,
     "metadata": {},
     "output_type": "execute_result"
    }
   ],
   "source": [
    "accuracy_score(test_y,y_pred)"
   ]
  },
  {
   "cell_type": "code",
   "execution_count": 46,
   "id": "c77fcc29-1e93-46fe-839f-bed7f16bda83",
   "metadata": {},
   "outputs": [
    {
     "data": {
      "text/plain": [
       "[<matplotlib.lines.Line2D at 0x25e25f0ce90>]"
      ]
     },
     "execution_count": 46,
     "metadata": {},
     "output_type": "execute_result"
    },
    {
     "data": {
      "image/png": "[encoded data removed]",
      "text/plain": [
       "<Figure size 640x480 with 1 Axes>"
      ]
     },
     "metadata": {},
     "output_type": "display_data"
    }
   ],
   "source": [
    "plt.plot(history.history['loss'])\n",
    "plt.plot(history.history['val_loss'])"
   ]
  },
  {
   "cell_type": "code",
   "execution_count": 47,
   "id": "44d0c1be-3363-463f-ad30-6a7cb603734a",
   "metadata": {},
   "outputs": [
    {
     "data": {
      "text/plain": [
       "[<matplotlib.lines.Line2D at 0x25e25f6fc50>]"
      ]
     },
     "execution_count": 47,
     "metadata": {},
     "output_type": "execute_result"
    },
    {
     "data": {
      "image/png": "[encoded data removed]",
      "text/plain": [
       "<Figure size 640x480 with 1 Axes>"
      ]
     },
     "metadata": {},
     "output_type": "display_data"
    }
   ],
   "source": [
    "plt.plot(history.history['accuracy'])\n",
    "plt.plot(history.history['val_accuracy'])"
   ]
  },
  {
   "cell_type": "code",
   "execution_count": null,
   "id": "6b4dcd45-3242-456b-affc-a6efd04df38c",
   "metadata": {},
   "outputs": [],
   "source": []
  }
 ],
 "metadata": {
  "kernelspec": {
   "display_name": "Python 3 (ipykernel)",
   "language": "python",
   "name": "python3"
  },
  "language_info": {
   "codemirror_mode": {
    "name": "ipython",
    "version": 3
   },
   "file_extension": ".py",
   "mimetype": "text/x-python",
   "name": "python",
   "nbconvert_exporter": "python",
   "pygments_lexer": "ipython3",
   "version": "3.11.5"
  }
 },
 "nbformat": 4,
 "nbformat_minor": 5
}
